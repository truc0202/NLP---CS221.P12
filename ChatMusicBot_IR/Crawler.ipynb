{
  "cells": [
    {
      "cell_type": "code",
      "source": [
        "!pip install spotipy\n",
        "!pip install beautifulsoup4 requests"
      ],
      "metadata": {
        "colab": {
          "base_uri": "https://localhost:8080/"
        },
        "id": "j9-t6SmjLb3v",
        "outputId": "6d76e885-a8d1-4fd9-8565-50431680da0f"
      },
      "execution_count": null,
      "outputs": [
        {
          "output_type": "stream",
          "name": "stdout",
          "text": [
            "Collecting spotipy\n",
            "  Downloading spotipy-2.24.0-py3-none-any.whl.metadata (4.9 kB)\n",
            "Collecting redis>=3.5.3 (from spotipy)\n",
            "  Downloading redis-5.2.1-py3-none-any.whl.metadata (9.1 kB)\n",
            "Requirement already satisfied: requests>=2.25.0 in /usr/local/lib/python3.10/dist-packages (from spotipy) (2.32.3)\n",
            "Requirement already satisfied: urllib3>=1.26.0 in /usr/local/lib/python3.10/dist-packages (from spotipy) (2.2.3)\n",
            "Requirement already satisfied: async-timeout>=4.0.3 in /usr/local/lib/python3.10/dist-packages (from redis>=3.5.3->spotipy) (4.0.3)\n",
            "Requirement already satisfied: charset-normalizer<4,>=2 in /usr/local/lib/python3.10/dist-packages (from requests>=2.25.0->spotipy) (3.4.0)\n",
            "Requirement already satisfied: idna<4,>=2.5 in /usr/local/lib/python3.10/dist-packages (from requests>=2.25.0->spotipy) (3.10)\n",
            "Requirement already satisfied: certifi>=2017.4.17 in /usr/local/lib/python3.10/dist-packages (from requests>=2.25.0->spotipy) (2024.8.30)\n",
            "Downloading spotipy-2.24.0-py3-none-any.whl (30 kB)\n",
            "Downloading redis-5.2.1-py3-none-any.whl (261 kB)\n",
            "\u001b[2K   \u001b[90m━━━━━━━━━━━━━━━━━━━━━━━━━━━━━━━━━━━━━━━━\u001b[0m \u001b[32m261.5/261.5 kB\u001b[0m \u001b[31m7.0 MB/s\u001b[0m eta \u001b[36m0:00:00\u001b[0m\n",
            "\u001b[?25hInstalling collected packages: redis, spotipy\n",
            "Successfully installed redis-5.2.1 spotipy-2.24.0\n",
            "Requirement already satisfied: beautifulsoup4 in /usr/local/lib/python3.10/dist-packages (4.12.3)\n",
            "Requirement already satisfied: requests in /usr/local/lib/python3.10/dist-packages (2.32.3)\n",
            "Requirement already satisfied: soupsieve>1.2 in /usr/local/lib/python3.10/dist-packages (from beautifulsoup4) (2.6)\n",
            "Requirement already satisfied: charset-normalizer<4,>=2 in /usr/local/lib/python3.10/dist-packages (from requests) (3.4.0)\n",
            "Requirement already satisfied: idna<4,>=2.5 in /usr/local/lib/python3.10/dist-packages (from requests) (3.10)\n",
            "Requirement already satisfied: urllib3<3,>=1.21.1 in /usr/local/lib/python3.10/dist-packages (from requests) (2.2.3)\n",
            "Requirement already satisfied: certifi>=2017.4.17 in /usr/local/lib/python3.10/dist-packages (from requests) (2024.8.30)\n"
          ]
        }
      ]
    },
    {
      "cell_type": "markdown",
      "source": [
        "Cấp quyền truy cập vào thông tin tài khoản"
      ],
      "metadata": {
        "id": "YWSEs2bAZBQj"
      }
    },
    {
      "cell_type": "code",
      "source": [
        "import requests\n",
        "import spotipy\n",
        "from spotipy.oauth2 import SpotifyClientCredentials, SpotifyOAuth\n",
        "import csv\n"
      ],
      "metadata": {
        "id": "VgTV7gY5YANC"
      },
      "execution_count": null,
      "outputs": []
    },
    {
      "cell_type": "code",
      "source": [
        "# Thiết lập OAuth 2.0 với các thông tin đã lấy từ Spotify Developer Dashboard\n",
        "CLIENT_ID = '0477998cd7304c888f06a6ced8eeeac3'\n",
        "CLIENT_SECRET = 'dc5fa07cdc4b4f27b3baa4e08a90e674'\n",
        "REDIRECT_URI = 'http://localhost:8888/callback'\n",
        "sp = spotipy.Spotify(auth_manager=SpotifyClientCredentials(\n",
        "    client_id=CLIENT_ID,\n",
        "    client_secret=CLIENT_SECRET\n",
        "))\n",
        "\n",
        "# ZING_API_BASE_URL = \"https://zingmp3.vn/api/v2/song/get/lyrics\"\n",
        "\n",
        "def get_song_in_playlist(playlist_id):\n",
        "\n",
        "    results = sp.playlist_items(playlist_id)\n",
        "    songs = []\n",
        "\n",
        "    while results:\n",
        "        # Duyệt qua từng bài hát trong trang kết quả\n",
        "        for item in results['items']:\n",
        "            track = item['track']\n",
        "            if track:  # Kiểm tra xem bài hát có hợp lệ\n",
        "                song_info = {\n",
        "                    'song_id'  : track['id'],\n",
        "                    'song_name': track['name'],  # Tên bài hát\n",
        "                    'artist_name': ', '.join(artist['name'] for artist in track['artists']),  # Tên nghệ sĩ\n",
        "                    'song_URL' : track['external_urls']['spotify'],  # Link bài hát trên Spotify\n",
        "                }\n",
        "                songs.append(song_info)\n",
        "\n",
        "        # Kiểm tra và lấy trang tiếp theo nếu có\n",
        "        results = sp.next(results) if results['next'] else None\n",
        "\n",
        "    return songs\n",
        "\n",
        "\n",
        "def get_zing_id(song_name, artist_name):\n",
        "    \"\"\"\n",
        "    Tìm kiếm bài hát trên Zing MP3 và lấy ID bài hát.\n",
        "\n",
        "    Args:\n",
        "        song_name (str): Tên bài hát.\n",
        "        artist_name (str): Tên nghệ sĩ.\n",
        "\n",
        "    Returns:\n",
        "        str: ID bài hát trên Zing MP3 hoặc thông báo lỗi.\n",
        "    \"\"\"\n",
        "    try:\n",
        "        params = {\n",
        "            \"q\": f\"{song_name} {artist_name}\",\n",
        "            \"type\": \"song\",\n",
        "        }\n",
        "        headers = {\n",
        "            \"User-Agent\": \"Mozilla/5.0 (Windows NT 10.0; Win64; x64) AppleWebKit/537.36 (KHTML, like Gecko) Chrome/91.0.4472.124 Safari/537.36\",\n",
        "            \"Referer\": \"https://zingmp3.vn/\",\n",
        "        }\n",
        "\n",
        "        response = requests.get(ZING_SEARCH_URL, params=params, headers=headers, timeout=10)\n",
        "\n",
        "        # Debug thông tin phản hồi\n",
        "        print(\"Search Response URL:\", response.url)\n",
        "        print(\"Search Response Status Code:\", response.status_code)\n",
        "        print(\"Search Response Text:\", response.text[:500])  # Giới hạn in\n",
        "\n",
        "        # Kiểm tra phản hồi\n",
        "        if 'application/json' not in response.headers.get('Content-Type', ''):\n",
        "            return None, f\"Error: Non-JSON response received. Content: {response.text[:100]}\"\n",
        "\n",
        "        data = response.json()\n",
        "\n",
        "        # Kiểm tra kết quả tìm kiếm\n",
        "        if \"data\" in data and \"songs\" in data[\"data\"] and len(data[\"data\"][\"songs\"]) > 0:\n",
        "            song = data[\"data\"][\"songs\"][0]  # Lấy bài hát đầu tiên trong danh sách\n",
        "            return song[\"id\"], None\n",
        "        else:\n",
        "            return None, \"No song found on Zing MP3.\"\n",
        "\n",
        "    except Exception as e:\n",
        "        return None, f\"An error occurred: {e}\"\n",
        "\n",
        "def save_to_csv(filename, data, fieldnames):\n",
        "    \"\"\"\n",
        "    Lưu danh sách bài hát và lời bài hát vào file CSV.\n",
        "\n",
        "    Args:\n",
        "        filename (str): Tên file CSV.\n",
        "        data (list): Danh sách các bài hát và thông tin.\n",
        "        fieldnames (list): Danh sách tên cột cho file CSV.\n",
        "    \"\"\"\n",
        "    with open(filename, mode='w', encoding='utf-8', newline='') as file:\n",
        "        writer = csv.DictWriter(file, fieldnames=fieldnames)\n",
        "        writer.writeheader()\n",
        "        writer.writerows(data)\n",
        "\n",
        "\n"
      ],
      "metadata": {
        "collapsed": true,
        "id": "Dn75RvWmLJbl"
      },
      "execution_count": null,
      "outputs": []
    },
    {
      "cell_type": "code",
      "source": [
        "Nhac_vui_id = '4bh1RU0v3SNqu84sgqUzhg'\n",
        "Nhac_buon_id = '6pFxemaH9g9J9P8nxoRJBs'\n",
        "\n",
        "# Lấy danh sách bài hát từ playlist\n",
        "Nhac_vui_songs = get_song_in_playlist(Nhac_vui_id)\n",
        "Nhac_buon_songs = get_song_in_playlist(Nhac_buon_id)\n",
        "\n",
        "# Lưu danh sách bài hát và lời bài hát vào CSV\n",
        "fieldnames_songs = ['song_id', 'song_name', 'artist_name', 'song_URL']\n",
        "\n",
        "save_to_csv('Nhac_vui_songs.csv', Nhac_vui_songs, fieldnames_songs)\n",
        "save_to_csv('Nhac_buon_songs.csv', Nhac_buon_songs, fieldnames_songs)\n"
      ],
      "metadata": {
        "collapsed": true,
        "id": "vU11XwLFxpSn"
      },
      "execution_count": null,
      "outputs": []
    },
    {
      "cell_type": "code",
      "source": [
        "print(Nhac_vui_songs[3])"
      ],
      "metadata": {
        "colab": {
          "base_uri": "https://localhost:8080/"
        },
        "id": "2e6dQmSP5oJR",
        "outputId": "14d6fc1c-5b6d-45fb-819d-1f6352e1408d"
      },
      "execution_count": null,
      "outputs": [
        {
          "output_type": "stream",
          "name": "stdout",
          "text": [
            "{'song_id': '3bdTmaKivmPwheik5Y409t', 'song_name': 'Váy Hoa Nhí', 'artist_name': 'Hoàng Minh Châu', 'song_URL': 'https://open.spotify.com/track/3bdTmaKivmPwheik5Y409t'}\n"
          ]
        }
      ]
    }
  ],
  "metadata": {
    "colab": {
      "provenance": []
    },
    "kernelspec": {
      "display_name": "Python 3",
      "name": "python3"
    }
  },
  "nbformat": 4,
  "nbformat_minor": 0
}